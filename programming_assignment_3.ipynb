{
 "cells": [
  {
   "cell_type": "markdown",
   "id": "63f14f38",
   "metadata": {},
   "source": [
    "## 1. Write a Python Program to Check if a Number is Positive, Negative or Zero?"
   ]
  },
  {
   "cell_type": "code",
   "execution_count": 3,
   "id": "ac9e54bd",
   "metadata": {},
   "outputs": [
    {
     "name": "stdout",
     "output_type": "stream",
     "text": [
      "Enter the number:0\n",
      "Number is zero\n"
     ]
    }
   ],
   "source": [
    "def check(n):\n",
    "    if n>0:\n",
    "        print('Number is postive')\n",
    "    elif n<0:\n",
    "        print(\"Number is negative\")\n",
    "    else:\n",
    "        print(\"Number is zero\")\n",
    "    \n",
    "number=float(input('Enter the number:'))\n",
    "check(number)"
   ]
  },
  {
   "cell_type": "markdown",
   "id": "9d35ff79",
   "metadata": {},
   "source": [
    "## 2. Write a Python Program to Check if a Number is Odd or Even?"
   ]
  },
  {
   "cell_type": "code",
   "execution_count": 12,
   "id": "6ee743b1",
   "metadata": {},
   "outputs": [
    {
     "name": "stdout",
     "output_type": "stream",
     "text": [
      "Enter the number:30\n",
      "Number is Even\n"
     ]
    }
   ],
   "source": [
    "def odd_even(N):\n",
    "    if N%2==0:\n",
    "        print('Number is Even')\n",
    "    else:\n",
    "        print(\"Number is odd\")\n",
    "    \n",
    "N=float(input('Enter the number:'))\n",
    "odd_even(N)"
   ]
  },
  {
   "cell_type": "markdown",
   "id": "746d8ada",
   "metadata": {},
   "source": [
    "## 3. Write a Python Program to Check Leap Year?"
   ]
  },
  {
   "cell_type": "code",
   "execution_count": 6,
   "id": "16e4506b",
   "metadata": {},
   "outputs": [
    {
     "name": "stdout",
     "output_type": "stream",
     "text": [
      "Enter the year:2024\n",
      "2024 is Leap year\n"
     ]
    }
   ],
   "source": [
    "def leap(year):\n",
    "    if year%400==0:\n",
    "        print('{} is Leap year'.format(year))\n",
    "        \n",
    "    elif (year%4==0 and year%100!=0):\n",
    "        \n",
    "         print('{} is Leap year'.format(year))\n",
    "      \n",
    "    else:\n",
    "        print('{} is Not Leap year'.format(year))\n",
    "        \n",
    "    \n",
    "year=int(input('Enter the year:'))\n",
    "leap(year)"
   ]
  },
  {
   "cell_type": "markdown",
   "id": "5a8fb603",
   "metadata": {},
   "source": [
    "## 4. Write a Python Program to Check Prime Number?"
   ]
  },
  {
   "cell_type": "code",
   "execution_count": 3,
   "id": "2c8a209d",
   "metadata": {},
   "outputs": [
    {
     "name": "stdout",
     "output_type": "stream",
     "text": [
      "Enter the Number:4\n",
      "Number is not Prime\n"
     ]
    }
   ],
   "source": [
    "def prime(N):\n",
    "    k=int(N/2)+1\n",
    "    count=0\n",
    "    for i in range(1,k):\n",
    "        if N%i==0:\n",
    "            count+=1\n",
    "    if count==1:\n",
    "        print(\"Number is Prime\")\n",
    "    else:\n",
    "        print('Number is not Prime')\n",
    "        \n",
    "N=int(input('Enter the Number:'))\n",
    "prime(N)"
   ]
  },
  {
   "cell_type": "markdown",
   "id": "bbfd63b0",
   "metadata": {},
   "source": [
    "## 5. Write a Python Program to Print all Prime Numbers in an Interval of 1-10000?"
   ]
  },
  {
   "cell_type": "code",
   "execution_count": null,
   "id": "a8e966a1",
   "metadata": {},
   "outputs": [],
   "source": [
    "def prime(N):\n",
    "    l=[]\n",
    "    for j in range(N):\n",
    "        k=int(j/2)+1\n",
    "        count=0\n",
    "        for i in range(1,k):\n",
    "            if j%i==0:\n",
    "                count+=1\n",
    "        if count==1:\n",
    "            l.append(j)\n",
    "    print(l)        \n",
    "            \n",
    "N=int(input('Enter the Number:'))\n",
    "prime(N)"
   ]
  },
  {
   "cell_type": "code",
   "execution_count": null,
   "id": "81ff5ee9",
   "metadata": {},
   "outputs": [],
   "source": []
  }
 ],
 "metadata": {
  "kernelspec": {
   "display_name": "Python 3 (ipykernel)",
   "language": "python",
   "name": "python3"
  },
  "language_info": {
   "codemirror_mode": {
    "name": "ipython",
    "version": 3
   },
   "file_extension": ".py",
   "mimetype": "text/x-python",
   "name": "python",
   "nbconvert_exporter": "python",
   "pygments_lexer": "ipython3",
   "version": "3.9.12"
  }
 },
 "nbformat": 4,
 "nbformat_minor": 5
}
