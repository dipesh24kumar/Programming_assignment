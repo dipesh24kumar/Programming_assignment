{
 "cells": [
  {
   "cell_type": "markdown",
   "id": "d325d5fd",
   "metadata": {},
   "source": [
    "## 1. Write a Python Program to Find LCM?"
   ]
  },
  {
   "cell_type": "code",
   "execution_count": 9,
   "id": "644c2d22",
   "metadata": {},
   "outputs": [
    {
     "name": "stdout",
     "output_type": "stream",
     "text": [
      "Enter first number :10\n",
      "Enter second number :23\n",
      "Lcm of 10 and 23 is : 230\n"
     ]
    }
   ],
   "source": [
    "def lcm(a,b):\n",
    "    if a>b:\n",
    "        greater=a\n",
    "    else:\n",
    "        greater=b\n",
    "    while True:\n",
    "        if ((greater%a==0) and (greater%b==0)):\n",
    "            lcm=greater\n",
    "            break\n",
    "        greater+=1    \n",
    "    return lcm     \n",
    "        \n",
    "        \n",
    "a=int(input(\"Enter first number :\"))\n",
    "b=int(input('Enter second number :'))\n",
    "print('Lcm of {} and {} is : {}'.format(a,b,lcm(a,b)))\n",
    "    "
   ]
  },
  {
   "cell_type": "markdown",
   "id": "5031fb07",
   "metadata": {},
   "source": [
    "## 2. Write a Python Program to Find HCF?"
   ]
  },
  {
   "cell_type": "code",
   "execution_count": 2,
   "id": "04b75ac1",
   "metadata": {},
   "outputs": [
    {
     "name": "stdout",
     "output_type": "stream",
     "text": [
      "Enter first number :10\n",
      "Enter second number :5\n",
      "Hcf of 10 and 5 is : 5\n"
     ]
    }
   ],
   "source": [
    "def hcf(a,b):\n",
    "    if a<b:\n",
    "        smaller=a\n",
    "    else:\n",
    "        smaller=b\n",
    "    for i in range(1,smaller+1):\n",
    "        if ((a%i==0) and (b%i==0)):\n",
    "            hcf=i\n",
    "            \n",
    "          \n",
    "    return hcf    \n",
    "        \n",
    "        \n",
    "a=int(input(\"Enter first number :\"))\n",
    "b=int(input('Enter second number :'))\n",
    "print('Hcf of {} and {} is : {}'.format(a,b,hcf(a,b)))"
   ]
  },
  {
   "cell_type": "markdown",
   "id": "88de5468",
   "metadata": {},
   "source": [
    "## 3. Write a Python Program to Convert Decimal to Binary, Octal and Hexadecimal?\n"
   ]
  },
  {
   "cell_type": "code",
   "execution_count": 5,
   "id": "b21a0bf8",
   "metadata": {},
   "outputs": [
    {
     "name": "stdout",
     "output_type": "stream",
     "text": [
      "Enter decimal number:5\n",
      "Decimal to Binaryn : 0b101\n",
      "Decimal to Octal : 0o5\n",
      "Decimal to Hexadecimal : 0x5\n"
     ]
    }
   ],
   "source": [
    "def converter(n):\n",
    "    print('Decimal to Binaryn :',bin(n))\n",
    "    print('Decimal to Octal :',oct(n))\n",
    "    print('Decimal to Hexadecimal :',hex(n))\n",
    "    \n",
    "n=int(input('Enter decimal number:'))\n",
    "converter(n)"
   ]
  },
  {
   "cell_type": "markdown",
   "id": "7a941605",
   "metadata": {},
   "source": [
    "## 4. Write a Python Program To Find ASCII value of a character?"
   ]
  },
  {
   "cell_type": "code",
   "execution_count": 7,
   "id": "c9af2f59",
   "metadata": {},
   "outputs": [
    {
     "name": "stdout",
     "output_type": "stream",
     "text": [
      "Enter to which you have to convert ascii: D\n",
      "Ascii value: 68\n"
     ]
    }
   ],
   "source": [
    "def ascii_converter(s):\n",
    "    print('Ascii value:',ord(s))\n",
    "    pass\n",
    "s=input('Enter to which you have to convert ascii: ')\n",
    "ascii_converter(s)"
   ]
  },
  {
   "cell_type": "markdown",
   "id": "9ed2036f",
   "metadata": {},
   "source": [
    "## 5. Write a Python Program to Make a Simple Calculator with 4 basic mathematical operations?"
   ]
  },
  {
   "cell_type": "code",
   "execution_count": 25,
   "id": "7a84b498",
   "metadata": {},
   "outputs": [
    {
     "name": "stdout",
     "output_type": "stream",
     "text": [
      "Enter the first number:20\n",
      "Enter the second number:10\n",
      "Enter 1 for add, 2 for subtract,3 for multiply and 4 for divide :4\n",
      "Division is :  2.0\n"
     ]
    }
   ],
   "source": [
    "class calculator():\n",
    "    def __init__(self,a,b):\n",
    "        self.a=a\n",
    "        self.b=b\n",
    "    def add(self):\n",
    "        return self.a+self.b\n",
    "    def sub(self):\n",
    "        return self.a-self.b\n",
    "    def mul(self):\n",
    "        return self.a*self.b\n",
    "    def div(self):\n",
    "        return a/b\n",
    "    \n",
    "\n",
    "a=float(input('Enter the first number:'))\n",
    "b=float(input('Enter the second number:'))\n",
    "cal=calculator(a,b)\n",
    "choice=int(input(\"Enter 1 for add, 2 for subtract,3 for multiply and 4 for divide :\"))\n",
    "if choice==1:\n",
    "    print('addition is:',cal.add())\n",
    "if choice==2:\n",
    "    print('subtraction is : ',cal.sub())\n",
    "if choice ==3:\n",
    "    print('Multiplication is : ',cal.mul())\n",
    "if choice==4:\n",
    "    print('Division is : ',cal.div())\n",
    "        \n",
    "\n",
    "\n",
    "\n",
    "    "
   ]
  },
  {
   "cell_type": "code",
   "execution_count": null,
   "id": "1c3596d0",
   "metadata": {},
   "outputs": [],
   "source": []
  }
 ],
 "metadata": {
  "kernelspec": {
   "display_name": "Python 3 (ipykernel)",
   "language": "python",
   "name": "python3"
  },
  "language_info": {
   "codemirror_mode": {
    "name": "ipython",
    "version": 3
   },
   "file_extension": ".py",
   "mimetype": "text/x-python",
   "name": "python",
   "nbconvert_exporter": "python",
   "pygments_lexer": "ipython3",
   "version": "3.9.12"
  }
 },
 "nbformat": 4,
 "nbformat_minor": 5
}
