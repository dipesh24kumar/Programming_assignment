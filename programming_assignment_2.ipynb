{
 "cells": [
  {
   "cell_type": "markdown",
   "id": "9a06b3bb",
   "metadata": {},
   "source": [
    "## 1. Write a Python program to convert kilometers to miles?"
   ]
  },
  {
   "cell_type": "code",
   "execution_count": 8,
   "id": "07779540",
   "metadata": {},
   "outputs": [
    {
     "name": "stdout",
     "output_type": "stream",
     "text": [
      "Enter kilometer:10\n",
      "10.0 kilometer is equal to 6.21371 miles\n"
     ]
    }
   ],
   "source": [
    "def kilometertomile(km):\n",
    "    mile=km*0.621371\n",
    "    return mile\n",
    "    \n",
    "km=float(input('Enter kilometer:'))\n",
    "\n",
    "print('{} kilometer is equal to {} miles'.format(km,kilometertomile(km)))"
   ]
  },
  {
   "cell_type": "markdown",
   "id": "c84c3bc6",
   "metadata": {},
   "source": [
    "## 2.Write a Python program to convert Celsius to Fahrenheit?"
   ]
  },
  {
   "cell_type": "code",
   "execution_count": 14,
   "id": "3c065960",
   "metadata": {},
   "outputs": [
    {
     "name": "stdout",
     "output_type": "stream",
     "text": [
      "Enter Celsius:6\n",
      "6.0 celsius is equal to 42.8 fahrenheit\n"
     ]
    }
   ],
   "source": [
    "def celsiustofaren(temperature):\n",
    "    fahrenheit=(temperature*(9/5))+32\n",
    "    return fahrenheit\n",
    "\n",
    "temperature=float(input('Enter Celsius:'))\n",
    "\n",
    "print(\"{} celsius is equal to {} fahrenheit\".format(temperature,celsiustofaren(temperature)))"
   ]
  },
  {
   "cell_type": "markdown",
   "id": "676bc829",
   "metadata": {},
   "source": [
    "## 3. Write a Python program to display calendar?"
   ]
  },
  {
   "cell_type": "code",
   "execution_count": 16,
   "id": "f7318067",
   "metadata": {},
   "outputs": [
    {
     "name": "stdout",
     "output_type": "stream",
     "text": [
      "Enter Year: 2022\n",
      "Enter month range(1-12):7\n",
      "     July 2022\n",
      "Mo Tu We Th Fr Sa Su\n",
      "             1  2  3\n",
      " 4  5  6  7  8  9 10\n",
      "11 12 13 14 15 16 17\n",
      "18 19 20 21 22 23 24\n",
      "25 26 27 28 29 30 31\n",
      "\n"
     ]
    }
   ],
   "source": [
    "import calendar\n",
    "year=int(input('Enter Year: '))\n",
    "month=int(input('Enter month range(1-12):'))\n",
    "print(calendar.month(year,month))"
   ]
  },
  {
   "cell_type": "markdown",
   "id": "deedf4ac",
   "metadata": {},
   "source": [
    "## 4. Write a Python program to solve quadratic equation?"
   ]
  },
  {
   "cell_type": "code",
   "execution_count": 22,
   "id": "b3c8b80a",
   "metadata": {},
   "outputs": [
    {
     "name": "stdout",
     "output_type": "stream",
     "text": [
      "Enter x^2 coefficient :1\n",
      "Enter x coefficient :5\n",
      "Enter intercept :6\n",
      "The solution are (-3+0j) and (-2+0j)\n"
     ]
    }
   ],
   "source": [
    "import cmath\n",
    "def quadratic(a,b,c):\n",
    "    if a==0:\n",
    "        print('Please do not enter 0')\n",
    "    else:\n",
    "        d=(b**2)-4*a*c\n",
    "        sol1=(-b-cmath.sqrt(d))/(2*a)\n",
    "        sol2=(-b+cmath.sqrt(d))/(2*a)\n",
    "        \n",
    "    return sol1,sol2    \n",
    "\n",
    "a=float(input('Enter x^2 coefficient :'))\n",
    "b=float(input('Enter x coefficient :'))\n",
    "c=float(input('Enter intercept :'))\n",
    "sol1,sol2=quadratic(a,b,c)\n",
    "print('The solution are {0} and {1}'.format(sol1,sol2))\n",
    "\n"
   ]
  },
  {
   "cell_type": "markdown",
   "id": "5061d348",
   "metadata": {},
   "source": [
    "## 5. Write a Python program to swap two variables without temp variable?"
   ]
  },
  {
   "cell_type": "code",
   "execution_count": null,
   "id": "67598fa5",
   "metadata": {},
   "outputs": [],
   "source": [
    "def swap(a,b):\n",
    "    a=a+b\n",
    "    b=a-b\n",
    "    a=a-b\n",
    "    return a,b\n",
    "    \n",
    "a=input('Enter a:')\n",
    "b=input('Enter b:')\n",
    "print('Before swaping a = {} and b = {}'.format(a,b))\n",
    "a,b=swap(a,b)\n",
    "print('After swaping a = {} and b = {}'.format(a,b))"
   ]
  },
  {
   "cell_type": "code",
   "execution_count": null,
   "id": "6dee943c",
   "metadata": {},
   "outputs": [],
   "source": []
  }
 ],
 "metadata": {
  "kernelspec": {
   "display_name": "Python 3 (ipykernel)",
   "language": "python",
   "name": "python3"
  },
  "language_info": {
   "codemirror_mode": {
    "name": "ipython",
    "version": 3
   },
   "file_extension": ".py",
   "mimetype": "text/x-python",
   "name": "python",
   "nbconvert_exporter": "python",
   "pygments_lexer": "ipython3",
   "version": "3.9.12"
  }
 },
 "nbformat": 4,
 "nbformat_minor": 5
}
