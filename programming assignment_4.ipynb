{
 "cells": [
  {
   "cell_type": "markdown",
   "id": "bec381ba",
   "metadata": {},
   "source": [
    "## 1. Write a Python Program to Find the Factorial of a Number?"
   ]
  },
  {
   "cell_type": "code",
   "execution_count": 5,
   "id": "1f6822e2",
   "metadata": {},
   "outputs": [
    {
     "name": "stdout",
     "output_type": "stream",
     "text": [
      "Enter the Number:10\n",
      "Factorial of 10 is 3628800\n"
     ]
    }
   ],
   "source": [
    "def factorial(N):\n",
    "    k=1\n",
    "    for i in range(1,N+1):\n",
    "        k=k*i\n",
    "    return k\n",
    "N=int(input('Enter the Number:'))\n",
    "print('Factorial of {} is {}'.format(N,factorial(N)))"
   ]
  },
  {
   "cell_type": "markdown",
   "id": "b4123d7c",
   "metadata": {},
   "source": [
    "## 2. Write a Python Program to Display the multiplication Table?"
   ]
  },
  {
   "cell_type": "code",
   "execution_count": 16,
   "id": "427e8a14",
   "metadata": {},
   "outputs": [
    {
     "name": "stdout",
     "output_type": "stream",
     "text": [
      "Enter the Table:3\n",
      "3\n",
      "6\n",
      "9\n",
      "12\n",
      "15\n",
      "18\n",
      "21\n",
      "24\n",
      "27\n",
      "30\n"
     ]
    }
   ],
   "source": [
    "def multiplication(N):\n",
    "    k=0\n",
    "    for i in range(1,11):\n",
    "        k=i*N\n",
    "        print(k)\n",
    "    \n",
    "N=int(input('Enter the Table:'))\n",
    "multiplication(N)"
   ]
  },
  {
   "cell_type": "markdown",
   "id": "a99d631b",
   "metadata": {},
   "source": [
    "## 3. Write a Python Program to Print the Fibonacci sequence?"
   ]
  },
  {
   "cell_type": "code",
   "execution_count": 35,
   "id": "7e593090",
   "metadata": {},
   "outputs": [
    {
     "name": "stdout",
     "output_type": "stream",
     "text": [
      "Enter how many terms:13\n",
      "[0, 1, 1, 2, 3, 5, 8, 13, 21, 34, 55, 89, 144]\n"
     ]
    }
   ],
   "source": [
    "def fibonacci(N):\n",
    "    a=0\n",
    "    b=1\n",
    "    d=[0,1]\n",
    "    if N==1:\n",
    "        print(a)\n",
    "    elif N==2:\n",
    "        print(a,b)\n",
    "    else:\n",
    "        for i in range(3,N+1):\n",
    "            c=a+b\n",
    "            d.append(c)\n",
    "            a=b\n",
    "            b=c\n",
    "            \n",
    "        print(d)     \n",
    "N=int(input('Enter how many terms:'))\n",
    "fibonacci(N)"
   ]
  },
  {
   "cell_type": "markdown",
   "id": "36dd6dcb",
   "metadata": {},
   "source": [
    "## 4. Write a Python Program to Check Armstrong Number?"
   ]
  },
  {
   "cell_type": "markdown",
   "id": "8ccb2365",
   "metadata": {},
   "source": [
    "## method 1"
   ]
  },
  {
   "cell_type": "code",
   "execution_count": 50,
   "id": "643bf1b8",
   "metadata": {},
   "outputs": [
    {
     "name": "stdout",
     "output_type": "stream",
     "text": [
      "Enter the number:8208\n",
      "Number 8208 is an Armstrong\n"
     ]
    }
   ],
   "source": [
    "import math\n",
    "def armstrong(N):\n",
    "    l=[]\n",
    "    k=0\n",
    "    for i in range(len(N)):\n",
    "        l.append(N[i])\n",
    "    for i in l:\n",
    "        k+=pow(int(i),len(N))\n",
    "       \n",
    "    if k==int(N):\n",
    "        print(\"Number {} is an Armstrong\".format(N))\n",
    "    else:\n",
    "        print(\"Number {} is not an Armstrong\".format(N))\n",
    "        \n",
    "N=input('Enter the number:')\n",
    "armstrong(N)"
   ]
  },
  {
   "cell_type": "markdown",
   "id": "30357223",
   "metadata": {},
   "source": [
    "## Method 2"
   ]
  },
  {
   "cell_type": "code",
   "execution_count": 7,
   "id": "1efb4c63",
   "metadata": {},
   "outputs": [
    {
     "name": "stdout",
     "output_type": "stream",
     "text": [
      "Enter the number:8208\n",
      "Number 8208 is an Armstrong\n"
     ]
    }
   ],
   "source": [
    "def armstrong(N):\n",
    "    sum=0\n",
    "    temp=N\n",
    "    while temp>0:\n",
    "        digit=temp%10\n",
    "        sum+=digit**len(str(N))\n",
    "        temp=temp//10\n",
    "    if sum==N:\n",
    "        print(\"Number {} is an Armstrong\".format(N))\n",
    "    else:\n",
    "        print(\"Number {} is not an Armstrong\".format(N))\n",
    "        \n",
    "        \n",
    "N=int(input('Enter the number:'))\n",
    "armstrong(N)"
   ]
  },
  {
   "cell_type": "markdown",
   "id": "b45adb41",
   "metadata": {},
   "source": [
    "## 5. Write a Python Program to Find Armstrong Number in an Interval?"
   ]
  },
  {
   "cell_type": "code",
   "execution_count": 13,
   "id": "d0c49190",
   "metadata": {},
   "outputs": [
    {
     "name": "stdout",
     "output_type": "stream",
     "text": [
      "enter value of A: 10\n",
      "enter value of B: 1000\n",
      "153\n",
      "370\n",
      "371\n",
      "407\n"
     ]
    }
   ],
   "source": [
    "def armstrong(A,B):\n",
    "    for num in range(A, B + 1):\n",
    "        length = len(str(num))\n",
    "        sum = 0\n",
    "        temp = num\n",
    "        while temp > 0:\n",
    "            digit = temp % 10\n",
    "            sum += digit ** length\n",
    "            temp //= 10\n",
    "        \n",
    "        if num == sum:\n",
    "            print(num)\n",
    "    \n",
    "A = int(input(\"enter value of A: \"))\n",
    "B = int(input(\"enter value of B: \"))\n",
    "armstrong(A,B)"
   ]
  },
  {
   "cell_type": "markdown",
   "id": "ae693cf6",
   "metadata": {},
   "source": [
    "## 6. Write a Python Program to Find the Sum of Natural Numbers?"
   ]
  },
  {
   "cell_type": "code",
   "execution_count": 54,
   "id": "169e059a",
   "metadata": {},
   "outputs": [
    {
     "name": "stdout",
     "output_type": "stream",
     "text": [
      "Enter how many natural number :100\n",
      "Sum of 100 natural number is 5050\n"
     ]
    }
   ],
   "source": [
    "def naturalsum(N):\n",
    "    sum=0\n",
    "    for i in range(1,N+1):\n",
    "        sum+=i        \n",
    "    return sum\n",
    "N=int(input('Enter how many natural number :'))\n",
    "print('Sum of {} natural number is {}'.format(N,naturalsum(N)))"
   ]
  },
  {
   "cell_type": "code",
   "execution_count": null,
   "id": "5f87d3af",
   "metadata": {},
   "outputs": [],
   "source": [
    "\n"
   ]
  },
  {
   "cell_type": "code",
   "execution_count": null,
   "id": "46525b45",
   "metadata": {},
   "outputs": [],
   "source": []
  },
  {
   "cell_type": "code",
   "execution_count": null,
   "id": "2f83c081",
   "metadata": {},
   "outputs": [],
   "source": [
    "\n"
   ]
  },
  {
   "cell_type": "code",
   "execution_count": null,
   "id": "60502be0",
   "metadata": {},
   "outputs": [],
   "source": []
  }
 ],
 "metadata": {
  "kernelspec": {
   "display_name": "Python 3 (ipykernel)",
   "language": "python",
   "name": "python3"
  },
  "language_info": {
   "codemirror_mode": {
    "name": "ipython",
    "version": 3
   },
   "file_extension": ".py",
   "mimetype": "text/x-python",
   "name": "python",
   "nbconvert_exporter": "python",
   "pygments_lexer": "ipython3",
   "version": "3.9.12"
  }
 },
 "nbformat": 4,
 "nbformat_minor": 5
}
